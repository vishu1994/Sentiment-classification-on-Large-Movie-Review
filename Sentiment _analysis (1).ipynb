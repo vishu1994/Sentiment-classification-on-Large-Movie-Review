{
 "cells": [
  {
   "cell_type": "markdown",
   "metadata": {},
   "source": [
    "# 1) Dictionary based approach"
   ]
  },
  {
   "cell_type": "code",
   "execution_count": 7,
   "metadata": {},
   "outputs": [],
   "source": [
    "# Loading spark libraries...\n",
    "\n",
    "import findspark\n",
    "findspark.init('/home/vishal/spark-2.4.0-bin-hadoop2.7')\n",
    "from pyspark.sql import SparkSession\n",
    "spark1=SparkSession.builder.appName('Ops').getOrCreate()"
   ]
  },
  {
   "cell_type": "code",
   "execution_count": 54,
   "metadata": {},
   "outputs": [],
   "source": [
    "# loading all positive review file names  and negative file names in a list....\n",
    "\n",
    "import pathlib\n",
    "text_files_pos=[]\n",
    "text_files_neg=[]\n",
    "\n",
    "import os\n",
    "path ='/home/vishal/aclImdb_v1/aclImdb/train/pos'\n",
    "text_files_pos = [f for f in os.listdir(path) if f.endswith('.txt')]\n",
    "\n",
    "path_neg ='/home/vishal/aclImdb_v1/aclImdb/train/neg'\n",
    "text_files_neg= [f for f in os.listdir(path_neg) if f.endswith('.txt')]\n",
    "\n"
   ]
  },
  {
   "cell_type": "code",
   "execution_count": 40,
   "metadata": {},
   "outputs": [],
   "source": [
    "# prepending the directory path to all files...\n",
    "\n",
    "pre='/home/vishal/aclImdb_v1/aclImdb/train/pos/'\n",
    "text_files_pos_new=[]\n",
    "for item in text_files_pos:\n",
    "    pre1=pre\n",
    "    pre1=pre1+item\n",
    "    text_files_pos_new.append(pre1)"
   ]
  },
  {
   "cell_type": "code",
   "execution_count": 55,
   "metadata": {},
   "outputs": [],
   "source": [
    "pre2='/home/vishal/aclImdb_v1/aclImdb/train/neg/'\n",
    "\n",
    "text_files_neg_new=[]\n",
    "for item in text_files_neg:\n",
    "    pre1=pre2\n",
    "    pre1=pre1+item\n",
    "    text_files_neg_new.append(pre1)"
   ]
  },
  {
   "cell_type": "code",
   "execution_count": 41,
   "metadata": {},
   "outputs": [
    {
     "name": "stdout",
     "output_type": "stream",
     "text": [
      "/home/vishal/aclImdb_v1/aclImdb/train/pos/12441_9.txt\n"
     ]
    }
   ],
   "source": [
    "print(text_files_pos_new[0])"
   ]
  },
  {
   "cell_type": "code",
   "execution_count": 56,
   "metadata": {},
   "outputs": [
    {
     "name": "stdout",
     "output_type": "stream",
     "text": [
      "/home/vishal/aclImdb_v1/aclImdb/train/neg/2469_2.txt\n"
     ]
    }
   ],
   "source": [
    "print(text_files_neg_new[0])"
   ]
  },
  {
   "cell_type": "code",
   "execution_count": 44,
   "metadata": {},
   "outputs": [
    {
     "data": {
      "text/plain": [
       "12500"
      ]
     },
     "execution_count": 44,
     "metadata": {},
     "output_type": "execute_result"
    }
   ],
   "source": [
    "len(text_files_pos_new)"
   ]
  },
  {
   "cell_type": "code",
   "execution_count": 57,
   "metadata": {},
   "outputs": [
    {
     "data": {
      "text/plain": [
       "12500"
      ]
     },
     "execution_count": 57,
     "metadata": {},
     "output_type": "execute_result"
    }
   ],
   "source": [
    "len(text_files_neg_new)"
   ]
  },
  {
   "cell_type": "code",
   "execution_count": 48,
   "metadata": {
    "scrolled": true
   },
   "outputs": [
    {
     "name": "stdout",
     "output_type": "stream",
     "text": [
      "['/home/vishal/aclImdb_v1/aclImdb/train/pos/12441_9.txt', '/home/vishal/aclImdb_v1/aclImdb/train/pos/8731_7.txt', '/home/vishal/aclImdb_v1/aclImdb/train/pos/12306_9.txt', '/home/vishal/aclImdb_v1/aclImdb/train/pos/5804_10.txt', '/home/vishal/aclImdb_v1/aclImdb/train/pos/5584_8.txt', '/home/vishal/aclImdb_v1/aclImdb/train/pos/7580_7.txt', '/home/vishal/aclImdb_v1/aclImdb/train/pos/1463_10.txt', '/home/vishal/aclImdb_v1/aclImdb/train/pos/2987_10.txt', '/home/vishal/aclImdb_v1/aclImdb/train/pos/10160_7.txt', '/home/vishal/aclImdb_v1/aclImdb/train/pos/211_9.txt']\n"
     ]
    }
   ],
   "source": [
    "print(text_files_pos_new[0:10])"
   ]
  },
  {
   "cell_type": "code",
   "execution_count": 58,
   "metadata": {},
   "outputs": [
    {
     "name": "stdout",
     "output_type": "stream",
     "text": [
      "/home/vishal/aclImdb_v1/aclImdb/train/neg/2469_2.txt\n"
     ]
    }
   ],
   "source": [
    "print(text_files_neg_new[0])"
   ]
  },
  {
   "cell_type": "code",
   "execution_count": 36,
   "metadata": {},
   "outputs": [],
   "source": [
    "# function to read contents of a file...\n",
    "\n",
    "def readfile(filename):\n",
    "    mytext=[]\n",
    "    with open(filename) as f:\n",
    "        \n",
    "        data=f.read()\n",
    "        mytext.append(data)\n",
    "     \n",
    "    return mytext"
   ]
  },
  {
   "cell_type": "code",
   "execution_count": 52,
   "metadata": {},
   "outputs": [],
   "source": [
    "# Reading contents of all positive review files...\n",
    "\n",
    "# This list will store all positive reviews present in 12500 pos rev files...\n",
    "pos_rev=[]\n",
    "\n",
    "for file in text_files_pos_new:\n",
    "    content_of_file=readfile(file)\n",
    "    pos_rev.append(content_of_file)\n",
    "    \n",
    "\n"
   ]
  },
  {
   "cell_type": "code",
   "execution_count": 43,
   "metadata": {},
   "outputs": [
    {
     "name": "stdout",
     "output_type": "stream",
     "text": [
      "['This was the Modesty that we didn\\'t know! It was hinted at and summarized in the comic strip for the syndicates to sell to newspapers! Lee and Janet Batchler were true Modesty Blaise fans who were given The Dream Job - tell a prequel story of Modesty that the fans never saw before. In their audio-commentary, they admitted that that they made changes in her origin to make the story run smoother. The \"purists\" should also note that we really don\\'t know if everything she told Miklos was true because she was \"stalling for time.\" I didn\\'t rent or borrow the DVD like other \"reviewers\" did, I bought it! And I don\\'t want a refund! I watched it three times and I didn\\'t sleep through it! Great dialog and well-drawn characters that I cared about (even bad guy Miklos) just like in the novels and comic strips! I too can\\'t wait for the next Modesty (and Willie) film,especially if this \"prequel\" is a sign of what\\'s to come!']\n"
     ]
    }
   ],
   "source": [
    "print(pos_rev[0])"
   ]
  },
  {
   "cell_type": "code",
   "execution_count": 70,
   "metadata": {},
   "outputs": [
    {
     "data": {
      "text/plain": [
       "list"
      ]
     },
     "execution_count": 70,
     "metadata": {},
     "output_type": "execute_result"
    }
   ],
   "source": [
    "type(pos_rev[0])"
   ]
  },
  {
   "cell_type": "code",
   "execution_count": 59,
   "metadata": {},
   "outputs": [],
   "source": [
    "# Reading contents of all negative review files...\n",
    "\n",
    "# This list will store all neg reviews present in 12500 neg rev files...\n",
    "neg_rev=[]\n",
    "for file in text_files_neg_new:\n",
    "    content_of_file=readfile(file)\n",
    "    neg_rev.append(content_of_file)"
   ]
  },
  {
   "cell_type": "code",
   "execution_count": 60,
   "metadata": {
    "scrolled": true
   },
   "outputs": [
    {
     "name": "stdout",
     "output_type": "stream",
     "text": [
      "[\"I suppose if you like endless dialogue that doesn't forward the story and flashy camera effects like the scene transitions in the television show _Angel_, you'll enjoy the film. Me? All I wanted was a nice, tight little story, and it wasn't there. The pacing was practically backward, plot points were buried under a sea of unneeded dialogue, and there was absolutely no sense of dread, or tension, or ANYTHING.<br /><br />Is it the redneck? Is it the Wendigo? No, it's a cameraman on speed. That's not scary. It doesn't generate a single note of tension or atmosphere unless you're scared by MTV. Like those reviewers before me, I too noticed that by the end the movie invokes derisive laughter from the audience.<br /><br />Terrible film.\"]\n"
     ]
    }
   ],
   "source": [
    "print(neg_rev[0])"
   ]
  },
  {
   "cell_type": "markdown",
   "metadata": {},
   "source": [
    "## Data cleaning"
   ]
  },
  {
   "cell_type": "code",
   "execution_count": 64,
   "metadata": {},
   "outputs": [],
   "source": [
    "import re\n",
    "def cleanhtml(sentence): #function to clean the word of any html-tags\n",
    "    cleanr = re.compile('<.*?>')\n",
    "    cleantext = re.sub(cleanr, ' ', sentence)\n",
    "    return cleantext\n",
    "def cleanpunc(sentence): #function to clean the word of any punctuation or special characters\n",
    "    cleaned = re.sub(r'[?|!|\\'|\"|#]',r'',sentence)\n",
    "    cleaned = re.sub(r'[.|,|)|(|\\|/]',r' ',cleaned)\n",
    "    return  cleaned"
   ]
  },
  {
   "cell_type": "code",
   "execution_count": 67,
   "metadata": {},
   "outputs": [],
   "source": [
    "import nltk\n",
    "from nltk.corpus import stopwords\n",
    "from nltk.stem import PorterStemmer\n",
    "from nltk.stem.wordnet import WordNetLemmatizer"
   ]
  },
  {
   "cell_type": "code",
   "execution_count": 68,
   "metadata": {},
   "outputs": [],
   "source": [
    "stop = set(stopwords.words('english')) #set of stopwords\n",
    "sno = nltk.stem.SnowballStemmer('english') #initialising the snowball stemmer\n"
   ]
  },
  {
   "cell_type": "code",
   "execution_count": 76,
   "metadata": {},
   "outputs": [],
   "source": [
    "# cleaning all pos reviews ......\n",
    "\n",
    "pos_rev_cleaned=[]\n",
    "for sent in pos_rev:\n",
    "    filtered_sent=[]\n",
    "    s=str(sent)\n",
    "    sent=cleanhtml(s)\n",
    "    \n",
    "    for w in sent.split():\n",
    "            \n",
    "            for cleaned_words in cleanpunc(w).split():\n",
    "                \n",
    "                if((cleaned_words.isalpha()) & (len(cleaned_words)>2)):    \n",
    "                    if(cleaned_words.lower() not in stop):\n",
    "                        s=(sno.stem(cleaned_words.lower())).encode('utf8')\n",
    "                        filtered_sent.append(s)\n",
    "                    \n",
    "                    else:\n",
    "                        continue\n",
    "                \n",
    "                else:\n",
    "                    continue\n",
    "    \n",
    "    str1 = b\" \".join(filtered_sent) \n",
    "    pos_rev_cleaned.append(str1)               \n",
    "                    \n",
    "    \n",
    "    \n",
    "    \n",
    "        "
   ]
  },
  {
   "cell_type": "code",
   "execution_count": 77,
   "metadata": {
    "scrolled": true
   },
   "outputs": [
    {
     "data": {
      "text/plain": [
       "b'modesti know hint summar comic strip syndic sell newspap lee janet batchler true modesti blais fan given dream job tell prequel stori modesti fan never saw admit made chang origin make stori run smoother purist also note realli know everyth told miklo true stall time rent borrow dvd like review bought want refund watch three time sleep great dialog charact care even bad guy miklo like novel comic strip wait next modesti willi film especi prequel sign'"
      ]
     },
     "execution_count": 77,
     "metadata": {},
     "output_type": "execute_result"
    }
   ],
   "source": [
    "pos_rev_cleaned[0]"
   ]
  },
  {
   "cell_type": "code",
   "execution_count": 88,
   "metadata": {},
   "outputs": [
    {
     "data": {
      "text/plain": [
       "12500"
      ]
     },
     "execution_count": 88,
     "metadata": {},
     "output_type": "execute_result"
    }
   ],
   "source": [
    "len(pos_rev_cleaned)"
   ]
  },
  {
   "cell_type": "code",
   "execution_count": 78,
   "metadata": {},
   "outputs": [],
   "source": [
    "from tqdm import tqdm"
   ]
  },
  {
   "cell_type": "code",
   "execution_count": 79,
   "metadata": {},
   "outputs": [
    {
     "name": "stderr",
     "output_type": "stream",
     "text": [
      "100%|██████████| 12500/12500 [00:36<00:00, 343.57it/s]\n"
     ]
    }
   ],
   "source": [
    "# cleaning all negative reviews...\n",
    "\n",
    "neg_rev_cleaned=[]\n",
    "for sent in tqdm(neg_rev):\n",
    "    filtered_sent=[]\n",
    "    s=str(sent)\n",
    "    sent=cleanhtml(s)\n",
    "    \n",
    "    for w in sent.split():\n",
    "            \n",
    "            for cleaned_words in cleanpunc(w).split():\n",
    "                \n",
    "                if((cleaned_words.isalpha()) & (len(cleaned_words)>2)):    \n",
    "                    if(cleaned_words.lower() not in stop):\n",
    "                        s=(sno.stem(cleaned_words.lower())).encode('utf8')\n",
    "                        filtered_sent.append(s)\n",
    "                    \n",
    "                    else:\n",
    "                        continue\n",
    "                \n",
    "                else:\n",
    "                    continue\n",
    "    \n",
    "    str1 = b\" \".join(filtered_sent) \n",
    "    neg_rev_cleaned.append(str1)               \n",
    "                    \n",
    "    \n",
    "    \n",
    "    \n",
    "        "
   ]
  },
  {
   "cell_type": "code",
   "execution_count": 80,
   "metadata": {},
   "outputs": [],
   "source": [
    "import pandas as pd"
   ]
  },
  {
   "cell_type": "code",
   "execution_count": 94,
   "metadata": {},
   "outputs": [],
   "source": [
    "# Loading positive reviews in the dataframe...\n",
    "df=pd.DataFrame(pos_rev_cleaned,columns=['reviews'])"
   ]
  },
  {
   "cell_type": "code",
   "execution_count": 95,
   "metadata": {},
   "outputs": [
    {
     "data": {
      "text/html": [
       "<div>\n",
       "<style scoped>\n",
       "    .dataframe tbody tr th:only-of-type {\n",
       "        vertical-align: middle;\n",
       "    }\n",
       "\n",
       "    .dataframe tbody tr th {\n",
       "        vertical-align: top;\n",
       "    }\n",
       "\n",
       "    .dataframe thead th {\n",
       "        text-align: right;\n",
       "    }\n",
       "</style>\n",
       "<table border=\"1\" class=\"dataframe\">\n",
       "  <thead>\n",
       "    <tr style=\"text-align: right;\">\n",
       "      <th></th>\n",
       "      <th>reviews</th>\n",
       "    </tr>\n",
       "  </thead>\n",
       "  <tbody>\n",
       "    <tr>\n",
       "      <th>0</th>\n",
       "      <td>b'modesti know hint summar comic strip syndic ...</td>\n",
       "    </tr>\n",
       "    <tr>\n",
       "      <th>1</th>\n",
       "      <td>b'watch life first time long help see comparis...</td>\n",
       "    </tr>\n",
       "    <tr>\n",
       "      <th>2</th>\n",
       "      <td>b'chines ghost stori star late great lesli che...</td>\n",
       "    </tr>\n",
       "    <tr>\n",
       "      <th>3</th>\n",
       "      <td>b'jackson popular usa anymor howev europ espec...</td>\n",
       "    </tr>\n",
       "    <tr>\n",
       "      <th>4</th>\n",
       "      <td>b'cannot comment film without discuss signific...</td>\n",
       "    </tr>\n",
       "  </tbody>\n",
       "</table>\n",
       "</div>"
      ],
      "text/plain": [
       "                                             reviews\n",
       "0  b'modesti know hint summar comic strip syndic ...\n",
       "1  b'watch life first time long help see comparis...\n",
       "2  b'chines ghost stori star late great lesli che...\n",
       "3  b'jackson popular usa anymor howev europ espec...\n",
       "4  b'cannot comment film without discuss signific..."
      ]
     },
     "execution_count": 95,
     "metadata": {},
     "output_type": "execute_result"
    }
   ],
   "source": [
    "df.head()"
   ]
  },
  {
   "cell_type": "code",
   "execution_count": 96,
   "metadata": {},
   "outputs": [],
   "source": [
    "# adding the score column to the dataframe\n",
    "df['score']=1"
   ]
  },
  {
   "cell_type": "code",
   "execution_count": 97,
   "metadata": {},
   "outputs": [
    {
     "data": {
      "text/html": [
       "<div>\n",
       "<style scoped>\n",
       "    .dataframe tbody tr th:only-of-type {\n",
       "        vertical-align: middle;\n",
       "    }\n",
       "\n",
       "    .dataframe tbody tr th {\n",
       "        vertical-align: top;\n",
       "    }\n",
       "\n",
       "    .dataframe thead th {\n",
       "        text-align: right;\n",
       "    }\n",
       "</style>\n",
       "<table border=\"1\" class=\"dataframe\">\n",
       "  <thead>\n",
       "    <tr style=\"text-align: right;\">\n",
       "      <th></th>\n",
       "      <th>reviews</th>\n",
       "      <th>score</th>\n",
       "    </tr>\n",
       "  </thead>\n",
       "  <tbody>\n",
       "    <tr>\n",
       "      <th>0</th>\n",
       "      <td>b'modesti know hint summar comic strip syndic ...</td>\n",
       "      <td>1</td>\n",
       "    </tr>\n",
       "    <tr>\n",
       "      <th>1</th>\n",
       "      <td>b'watch life first time long help see comparis...</td>\n",
       "      <td>1</td>\n",
       "    </tr>\n",
       "    <tr>\n",
       "      <th>2</th>\n",
       "      <td>b'chines ghost stori star late great lesli che...</td>\n",
       "      <td>1</td>\n",
       "    </tr>\n",
       "    <tr>\n",
       "      <th>3</th>\n",
       "      <td>b'jackson popular usa anymor howev europ espec...</td>\n",
       "      <td>1</td>\n",
       "    </tr>\n",
       "    <tr>\n",
       "      <th>4</th>\n",
       "      <td>b'cannot comment film without discuss signific...</td>\n",
       "      <td>1</td>\n",
       "    </tr>\n",
       "  </tbody>\n",
       "</table>\n",
       "</div>"
      ],
      "text/plain": [
       "                                             reviews  score\n",
       "0  b'modesti know hint summar comic strip syndic ...      1\n",
       "1  b'watch life first time long help see comparis...      1\n",
       "2  b'chines ghost stori star late great lesli che...      1\n",
       "3  b'jackson popular usa anymor howev europ espec...      1\n",
       "4  b'cannot comment film without discuss signific...      1"
      ]
     },
     "execution_count": 97,
     "metadata": {},
     "output_type": "execute_result"
    }
   ],
   "source": [
    "df.head()"
   ]
  },
  {
   "cell_type": "code",
   "execution_count": 98,
   "metadata": {
    "scrolled": true
   },
   "outputs": [
    {
     "data": {
      "text/plain": [
       "12500"
      ]
     },
     "execution_count": 98,
     "metadata": {},
     "output_type": "execute_result"
    }
   ],
   "source": [
    "len(df)"
   ]
  },
  {
   "cell_type": "code",
   "execution_count": 99,
   "metadata": {},
   "outputs": [],
   "source": [
    "# creating a dataframe for neg reviews\n",
    "df2=pd.DataFrame(neg_rev_cleaned,columns=['reviews'])"
   ]
  },
  {
   "cell_type": "code",
   "execution_count": 101,
   "metadata": {},
   "outputs": [
    {
     "data": {
      "text/html": [
       "<div>\n",
       "<style scoped>\n",
       "    .dataframe tbody tr th:only-of-type {\n",
       "        vertical-align: middle;\n",
       "    }\n",
       "\n",
       "    .dataframe tbody tr th {\n",
       "        vertical-align: top;\n",
       "    }\n",
       "\n",
       "    .dataframe thead th {\n",
       "        text-align: right;\n",
       "    }\n",
       "</style>\n",
       "<table border=\"1\" class=\"dataframe\">\n",
       "  <thead>\n",
       "    <tr style=\"text-align: right;\">\n",
       "      <th></th>\n",
       "      <th>reviews</th>\n",
       "    </tr>\n",
       "  </thead>\n",
       "  <tbody>\n",
       "    <tr>\n",
       "      <th>0</th>\n",
       "      <td>b'suppos like endless dialogu doesnt forward s...</td>\n",
       "    </tr>\n",
       "    <tr>\n",
       "      <th>1</th>\n",
       "      <td>b'watch hope find someth know modern infam man...</td>\n",
       "    </tr>\n",
       "    <tr>\n",
       "      <th>2</th>\n",
       "      <td>b'movi origin leav messag touch certain way so...</td>\n",
       "    </tr>\n",
       "    <tr>\n",
       "      <th>3</th>\n",
       "      <td>b'mani movi featur bigfoot major good least go...</td>\n",
       "    </tr>\n",
       "    <tr>\n",
       "      <th>4</th>\n",
       "      <td>b'chapter ongo question whatev happen mel sens...</td>\n",
       "    </tr>\n",
       "  </tbody>\n",
       "</table>\n",
       "</div>"
      ],
      "text/plain": [
       "                                             reviews\n",
       "0  b'suppos like endless dialogu doesnt forward s...\n",
       "1  b'watch hope find someth know modern infam man...\n",
       "2  b'movi origin leav messag touch certain way so...\n",
       "3  b'mani movi featur bigfoot major good least go...\n",
       "4  b'chapter ongo question whatev happen mel sens..."
      ]
     },
     "execution_count": 101,
     "metadata": {},
     "output_type": "execute_result"
    }
   ],
   "source": [
    "df2.head()"
   ]
  },
  {
   "cell_type": "code",
   "execution_count": 132,
   "metadata": {},
   "outputs": [],
   "source": [
    "df2['score']=-1"
   ]
  },
  {
   "cell_type": "code",
   "execution_count": 133,
   "metadata": {},
   "outputs": [
    {
     "data": {
      "text/html": [
       "<div>\n",
       "<style scoped>\n",
       "    .dataframe tbody tr th:only-of-type {\n",
       "        vertical-align: middle;\n",
       "    }\n",
       "\n",
       "    .dataframe tbody tr th {\n",
       "        vertical-align: top;\n",
       "    }\n",
       "\n",
       "    .dataframe thead th {\n",
       "        text-align: right;\n",
       "    }\n",
       "</style>\n",
       "<table border=\"1\" class=\"dataframe\">\n",
       "  <thead>\n",
       "    <tr style=\"text-align: right;\">\n",
       "      <th></th>\n",
       "      <th>reviews</th>\n",
       "      <th>score</th>\n",
       "    </tr>\n",
       "  </thead>\n",
       "  <tbody>\n",
       "    <tr>\n",
       "      <th>0</th>\n",
       "      <td>b'suppos like endless dialogu doesnt forward s...</td>\n",
       "      <td>-1</td>\n",
       "    </tr>\n",
       "    <tr>\n",
       "      <th>1</th>\n",
       "      <td>b'watch hope find someth know modern infam man...</td>\n",
       "      <td>-1</td>\n",
       "    </tr>\n",
       "    <tr>\n",
       "      <th>2</th>\n",
       "      <td>b'movi origin leav messag touch certain way so...</td>\n",
       "      <td>-1</td>\n",
       "    </tr>\n",
       "    <tr>\n",
       "      <th>3</th>\n",
       "      <td>b'mani movi featur bigfoot major good least go...</td>\n",
       "      <td>-1</td>\n",
       "    </tr>\n",
       "    <tr>\n",
       "      <th>4</th>\n",
       "      <td>b'chapter ongo question whatev happen mel sens...</td>\n",
       "      <td>-1</td>\n",
       "    </tr>\n",
       "  </tbody>\n",
       "</table>\n",
       "</div>"
      ],
      "text/plain": [
       "                                             reviews  score\n",
       "0  b'suppos like endless dialogu doesnt forward s...     -1\n",
       "1  b'watch hope find someth know modern infam man...     -1\n",
       "2  b'movi origin leav messag touch certain way so...     -1\n",
       "3  b'mani movi featur bigfoot major good least go...     -1\n",
       "4  b'chapter ongo question whatev happen mel sens...     -1"
      ]
     },
     "execution_count": 133,
     "metadata": {},
     "output_type": "execute_result"
    }
   ],
   "source": [
    "df2.head()"
   ]
  },
  {
   "cell_type": "code",
   "execution_count": 134,
   "metadata": {},
   "outputs": [],
   "source": [
    "# creating the final dataframe by merging both pos and neg reviews dataframes....\n",
    "df_final = pd.concat([df, df2], ignore_index=True)\n"
   ]
  },
  {
   "cell_type": "code",
   "execution_count": 135,
   "metadata": {},
   "outputs": [
    {
     "data": {
      "text/html": [
       "<div>\n",
       "<style scoped>\n",
       "    .dataframe tbody tr th:only-of-type {\n",
       "        vertical-align: middle;\n",
       "    }\n",
       "\n",
       "    .dataframe tbody tr th {\n",
       "        vertical-align: top;\n",
       "    }\n",
       "\n",
       "    .dataframe thead th {\n",
       "        text-align: right;\n",
       "    }\n",
       "</style>\n",
       "<table border=\"1\" class=\"dataframe\">\n",
       "  <thead>\n",
       "    <tr style=\"text-align: right;\">\n",
       "      <th></th>\n",
       "      <th>reviews</th>\n",
       "      <th>score</th>\n",
       "    </tr>\n",
       "  </thead>\n",
       "  <tbody>\n",
       "    <tr>\n",
       "      <th>0</th>\n",
       "      <td>b'modesti know hint summar comic strip syndic ...</td>\n",
       "      <td>1</td>\n",
       "    </tr>\n",
       "    <tr>\n",
       "      <th>1</th>\n",
       "      <td>b'watch life first time long help see comparis...</td>\n",
       "      <td>1</td>\n",
       "    </tr>\n",
       "    <tr>\n",
       "      <th>2</th>\n",
       "      <td>b'chines ghost stori star late great lesli che...</td>\n",
       "      <td>1</td>\n",
       "    </tr>\n",
       "    <tr>\n",
       "      <th>3</th>\n",
       "      <td>b'jackson popular usa anymor howev europ espec...</td>\n",
       "      <td>1</td>\n",
       "    </tr>\n",
       "    <tr>\n",
       "      <th>4</th>\n",
       "      <td>b'cannot comment film without discuss signific...</td>\n",
       "      <td>1</td>\n",
       "    </tr>\n",
       "  </tbody>\n",
       "</table>\n",
       "</div>"
      ],
      "text/plain": [
       "                                             reviews  score\n",
       "0  b'modesti know hint summar comic strip syndic ...      1\n",
       "1  b'watch life first time long help see comparis...      1\n",
       "2  b'chines ghost stori star late great lesli che...      1\n",
       "3  b'jackson popular usa anymor howev europ espec...      1\n",
       "4  b'cannot comment film without discuss signific...      1"
      ]
     },
     "execution_count": 135,
     "metadata": {},
     "output_type": "execute_result"
    }
   ],
   "source": [
    "df_final.head()"
   ]
  },
  {
   "cell_type": "code",
   "execution_count": 136,
   "metadata": {},
   "outputs": [
    {
     "data": {
      "text/html": [
       "<div>\n",
       "<style scoped>\n",
       "    .dataframe tbody tr th:only-of-type {\n",
       "        vertical-align: middle;\n",
       "    }\n",
       "\n",
       "    .dataframe tbody tr th {\n",
       "        vertical-align: top;\n",
       "    }\n",
       "\n",
       "    .dataframe thead th {\n",
       "        text-align: right;\n",
       "    }\n",
       "</style>\n",
       "<table border=\"1\" class=\"dataframe\">\n",
       "  <thead>\n",
       "    <tr style=\"text-align: right;\">\n",
       "      <th></th>\n",
       "      <th>reviews</th>\n",
       "      <th>score</th>\n",
       "    </tr>\n",
       "  </thead>\n",
       "  <tbody>\n",
       "    <tr>\n",
       "      <th>24995</th>\n",
       "      <td>b'movi appear job train exercis coppola famili...</td>\n",
       "      <td>-1</td>\n",
       "    </tr>\n",
       "    <tr>\n",
       "      <th>24996</th>\n",
       "      <td>b'one much better enjoy lot one even produc sm...</td>\n",
       "      <td>-1</td>\n",
       "    </tr>\n",
       "    <tr>\n",
       "      <th>24997</th>\n",
       "      <td>b'love first littl mermaid know song love char...</td>\n",
       "      <td>-1</td>\n",
       "    </tr>\n",
       "    <tr>\n",
       "      <th>24998</th>\n",
       "      <td>b'bad one one movi doesnt even one posit effec...</td>\n",
       "      <td>-1</td>\n",
       "    </tr>\n",
       "    <tr>\n",
       "      <th>24999</th>\n",
       "      <td>b'realli stand incred crappi kill absolut act ...</td>\n",
       "      <td>-1</td>\n",
       "    </tr>\n",
       "  </tbody>\n",
       "</table>\n",
       "</div>"
      ],
      "text/plain": [
       "                                                 reviews  score\n",
       "24995  b'movi appear job train exercis coppola famili...     -1\n",
       "24996  b'one much better enjoy lot one even produc sm...     -1\n",
       "24997  b'love first littl mermaid know song love char...     -1\n",
       "24998  b'bad one one movi doesnt even one posit effec...     -1\n",
       "24999  b'realli stand incred crappi kill absolut act ...     -1"
      ]
     },
     "execution_count": 136,
     "metadata": {},
     "output_type": "execute_result"
    }
   ],
   "source": [
    "df_final.tail()"
   ]
  },
  {
   "cell_type": "markdown",
   "metadata": {},
   "source": [
    "### Loading the dictionary of all positive words and negative words...."
   ]
  },
  {
   "cell_type": "code",
   "execution_count": 107,
   "metadata": {},
   "outputs": [
    {
     "name": "stdout",
     "output_type": "stream",
     "text": [
      "--2018-11-29 19:41:24--  https://github.com/daniel-acuna/python_data_science_intro/blob/master/data/sentiments.parquet.zip?raw=true\n",
      "Resolving github.com (github.com)... 192.30.253.113, 192.30.253.112\n",
      "Connecting to github.com (github.com)|192.30.253.113|:443... connected.\n",
      "HTTP request sent, awaiting response... 302 Found\n",
      "Location: https://github.com/daniel-acuna/python_data_science_intro/raw/master/data/sentiments.parquet.zip [following]\n",
      "--2018-11-29 19:41:25--  https://github.com/daniel-acuna/python_data_science_intro/raw/master/data/sentiments.parquet.zip\n",
      "Reusing existing connection to github.com:443.\n",
      "HTTP request sent, awaiting response... 302 Found\n",
      "Location: https://raw.githubusercontent.com/daniel-acuna/python_data_science_intro/master/data/sentiments.parquet.zip [following]\n",
      "--2018-11-29 19:41:25--  https://raw.githubusercontent.com/daniel-acuna/python_data_science_intro/master/data/sentiments.parquet.zip\n",
      "Resolving raw.githubusercontent.com (raw.githubusercontent.com)... 151.101.192.133, 151.101.128.133, 151.101.64.133, ...\n",
      "Connecting to raw.githubusercontent.com (raw.githubusercontent.com)|151.101.192.133|:443... connected.\n",
      "HTTP request sent, awaiting response... 200 OK\n",
      "Length: 38387 (37K) [application/zip]\n",
      "Saving to: ‘sentiments.parquet.zip’\n",
      "\n",
      "sentiments.parquet. 100%[===================>]  37.49K  --.-KB/s    in 0.02s   \n",
      "\n",
      "2018-11-29 19:41:26 (1.75 MB/s) - ‘sentiments.parquet.zip’ saved [38387/38387]\n",
      "\n",
      "Archive:  sentiments.parquet.zip\n",
      "   creating: sentiments.parquet/\n",
      "  inflating: sentiments.parquet/.part-r-00000-e719650f-4cd0-4bf6-b325-d485724c78e8.gz.parquet.crc  \n",
      "  inflating: sentiments.parquet/.part-r-00001-e719650f-4cd0-4bf6-b325-d485724c78e8.gz.parquet.crc  \n",
      "  inflating: sentiments.parquet/.part-r-00002-e719650f-4cd0-4bf6-b325-d485724c78e8.gz.parquet.crc  \n",
      "  inflating: sentiments.parquet/.part-r-00003-e719650f-4cd0-4bf6-b325-d485724c78e8.gz.parquet.crc  \n",
      "  inflating: sentiments.parquet/.part-r-00004-e719650f-4cd0-4bf6-b325-d485724c78e8.gz.parquet.crc  \n",
      "  inflating: sentiments.parquet/.part-r-00005-e719650f-4cd0-4bf6-b325-d485724c78e8.gz.parquet.crc  \n",
      "  inflating: sentiments.parquet/.part-r-00006-e719650f-4cd0-4bf6-b325-d485724c78e8.gz.parquet.crc  \n",
      "  inflating: sentiments.parquet/.part-r-00007-e719650f-4cd0-4bf6-b325-d485724c78e8.gz.parquet.crc  \n",
      "  inflating: sentiments.parquet/_common_metadata  \n",
      "  inflating: sentiments.parquet/_metadata  \n",
      " extracting: sentiments.parquet/_SUCCESS  \n",
      "  inflating: sentiments.parquet/part-r-00000-e719650f-4cd0-4bf6-b325-d485724c78e8.gz.parquet  \n",
      "  inflating: sentiments.parquet/part-r-00001-e719650f-4cd0-4bf6-b325-d485724c78e8.gz.parquet  \n",
      "  inflating: sentiments.parquet/part-r-00002-e719650f-4cd0-4bf6-b325-d485724c78e8.gz.parquet  \n",
      "  inflating: sentiments.parquet/part-r-00003-e719650f-4cd0-4bf6-b325-d485724c78e8.gz.parquet  \n",
      "  inflating: sentiments.parquet/part-r-00004-e719650f-4cd0-4bf6-b325-d485724c78e8.gz.parquet  \n",
      "  inflating: sentiments.parquet/part-r-00005-e719650f-4cd0-4bf6-b325-d485724c78e8.gz.parquet  \n",
      "  inflating: sentiments.parquet/part-r-00006-e719650f-4cd0-4bf6-b325-d485724c78e8.gz.parquet  \n",
      "  inflating: sentiments.parquet/part-r-00007-e719650f-4cd0-4bf6-b325-d485724c78e8.gz.parquet  \n"
     ]
    }
   ],
   "source": [
    "# this dictionary contains the pos and neg words having sentiment score of +1 and -1 respectively...\n",
    "\n",
    "!wget https://github.com/daniel-acuna/python_data_science_intro/blob/master/data/sentiments.parquet.zip?raw=true -O sentiments.parquet.zip && unzip sentiments.parquet.zip && rm sentiments.parquet.zip\n"
   ]
  },
  {
   "cell_type": "code",
   "execution_count": 110,
   "metadata": {},
   "outputs": [],
   "source": [
    "# loading the dictionary into a dataframe.....\n",
    "sentiments_df=pd.read_parquet('sentiments.parquet')"
   ]
  },
  {
   "cell_type": "code",
   "execution_count": 111,
   "metadata": {},
   "outputs": [
    {
     "data": {
      "text/html": [
       "<div>\n",
       "<style scoped>\n",
       "    .dataframe tbody tr th:only-of-type {\n",
       "        vertical-align: middle;\n",
       "    }\n",
       "\n",
       "    .dataframe tbody tr th {\n",
       "        vertical-align: top;\n",
       "    }\n",
       "\n",
       "    .dataframe thead th {\n",
       "        text-align: right;\n",
       "    }\n",
       "</style>\n",
       "<table border=\"1\" class=\"dataframe\">\n",
       "  <thead>\n",
       "    <tr style=\"text-align: right;\">\n",
       "      <th></th>\n",
       "      <th>word</th>\n",
       "      <th>sentiment</th>\n",
       "    </tr>\n",
       "  </thead>\n",
       "  <tbody>\n",
       "    <tr>\n",
       "      <th>0</th>\n",
       "      <td>a+</td>\n",
       "      <td>1</td>\n",
       "    </tr>\n",
       "    <tr>\n",
       "      <th>1</th>\n",
       "      <td>abound</td>\n",
       "      <td>1</td>\n",
       "    </tr>\n",
       "    <tr>\n",
       "      <th>2</th>\n",
       "      <td>abounds</td>\n",
       "      <td>1</td>\n",
       "    </tr>\n",
       "    <tr>\n",
       "      <th>3</th>\n",
       "      <td>abundance</td>\n",
       "      <td>1</td>\n",
       "    </tr>\n",
       "    <tr>\n",
       "      <th>4</th>\n",
       "      <td>abundant</td>\n",
       "      <td>1</td>\n",
       "    </tr>\n",
       "  </tbody>\n",
       "</table>\n",
       "</div>"
      ],
      "text/plain": [
       "        word  sentiment\n",
       "0         a+          1\n",
       "1     abound          1\n",
       "2    abounds          1\n",
       "3  abundance          1\n",
       "4   abundant          1"
      ]
     },
     "execution_count": 111,
     "metadata": {},
     "output_type": "execute_result"
    }
   ],
   "source": [
    "sentiments_df.head()"
   ]
  },
  {
   "cell_type": "code",
   "execution_count": 126,
   "metadata": {},
   "outputs": [
    {
     "data": {
      "text/plain": [
       "6789"
      ]
     },
     "execution_count": 126,
     "metadata": {},
     "output_type": "execute_result"
    }
   ],
   "source": [
    "len(sentiments_df)"
   ]
  },
  {
   "cell_type": "code",
   "execution_count": 128,
   "metadata": {},
   "outputs": [
    {
     "data": {
      "text/plain": [
       "word         squash\n",
       "sentiment        -1\n",
       "Name: 6000, dtype: object"
      ]
     },
     "execution_count": 128,
     "metadata": {},
     "output_type": "execute_result"
    }
   ],
   "source": [
    "sentiments_df.loc[6000]"
   ]
  },
  {
   "cell_type": "code",
   "execution_count": 118,
   "metadata": {},
   "outputs": [],
   "source": [
    "sentiment_pos_df=sentiments_df[sentiments_df['sentiment']==1]"
   ]
  },
  {
   "cell_type": "code",
   "execution_count": 119,
   "metadata": {},
   "outputs": [],
   "source": [
    "#List of pos words....\n",
    "sent_pos_words=list(sentiment_pos_df['word'].values)"
   ]
  },
  {
   "cell_type": "code",
   "execution_count": 120,
   "metadata": {},
   "outputs": [
    {
     "data": {
      "text/plain": [
       "'a+'"
      ]
     },
     "execution_count": 120,
     "metadata": {},
     "output_type": "execute_result"
    }
   ],
   "source": [
    "sent_pos_words[0]"
   ]
  },
  {
   "cell_type": "code",
   "execution_count": 131,
   "metadata": {},
   "outputs": [
    {
     "name": "stdout",
     "output_type": "stream",
     "text": [
      "abominably\n"
     ]
    }
   ],
   "source": [
    "sentiment_neg_df=sentiments_df[sentiments_df['sentiment']==-1]\n",
    "# List of all neg words\n",
    "sent_neg_words=list(sentiment_neg_df['word'].values)\n",
    "print(sent_neg_words[5])"
   ]
  },
  {
   "cell_type": "code",
   "execution_count": 121,
   "metadata": {},
   "outputs": [
    {
     "name": "stdout",
     "output_type": "stream",
     "text": [
      "a+\n"
     ]
    }
   ],
   "source": [
    "mystr=sent_pos_words[0]\n",
    "\n",
    "if mystr in sent_pos_words:\n",
    "    print(mystr)"
   ]
  },
  {
   "cell_type": "code",
   "execution_count": 139,
   "metadata": {},
   "outputs": [
    {
     "name": "stderr",
     "output_type": "stream",
     "text": [
      "100%|██████████| 25000/25000 [05:02<00:00, 82.67it/s] \n"
     ]
    }
   ],
   "source": [
    "# Checking each word of a review in list of pos words and neg words and increasing the counts respectively....\n",
    "\n",
    "final_score=[]\n",
    "for rev in tqdm(df_final['reviews'].values):\n",
    "    sent=str(rev)\n",
    "    pos_cnt=0\n",
    "    neg_cnt=0\n",
    "    for word in sent.split():\n",
    "        if word in sent_pos_words:\n",
    "            pos_cnt+=1\n",
    "        \n",
    "        elif word in sent_neg_words:\n",
    "            neg_cnt+=1\n",
    "            \n",
    "        else:\n",
    "            continue\n",
    "    \n",
    "    if pos_cnt-neg_cnt>0:\n",
    "        final_score.append(1)\n",
    "    \n",
    "    elif pos_cnt-neg_cnt<0:\n",
    "        final_score.append(-1)\n",
    "    \n",
    "    else:\n",
    "        final_score.append(0)\n",
    "            "
   ]
  },
  {
   "cell_type": "code",
   "execution_count": 140,
   "metadata": {},
   "outputs": [
    {
     "data": {
      "text/plain": [
       "25000"
      ]
     },
     "execution_count": 140,
     "metadata": {},
     "output_type": "execute_result"
    }
   ],
   "source": [
    "len(final_score)"
   ]
  },
  {
   "cell_type": "markdown",
   "metadata": {},
   "source": [
    "## Confusion matrix"
   ]
  },
  {
   "cell_type": "code",
   "execution_count": 144,
   "metadata": {},
   "outputs": [
    {
     "name": "stdout",
     "output_type": "stream",
     "text": [
      "\n",
      "Confusion Matrix :\n",
      "\n",
      "[[7241 1202 4057]\n",
      " [   0    0    0]\n",
      " [2756  923 8821]]\n",
      "\n",
      "Accuracy Score : 0.64248\n",
      "\n",
      "Report : \n",
      "\n",
      "             precision    recall  f1-score   support\n",
      "\n",
      "         -1       0.72      0.58      0.64     12500\n",
      "          0       0.00      0.00      0.00         0\n",
      "          1       0.68      0.71      0.70     12500\n",
      "\n",
      "avg / total       0.70      0.64      0.67     25000\n",
      "\n"
     ]
    }
   ],
   "source": [
    "import warnings\n",
    "warnings.filterwarnings('ignore')\n",
    "\n",
    "from sklearn.metrics import confusion_matrix \n",
    "from sklearn.metrics import accuracy_score \n",
    "from sklearn.metrics import classification_report \n",
    "\n",
    "results = confusion_matrix(df_final['score'].values, final_score) \n",
    "print()\n",
    "print('Confusion Matrix :')\n",
    "print()\n",
    "print(results) \n",
    "print()\n",
    "print('Accuracy Score :',accuracy_score(df_final['score'].values, final_score)) \n",
    "print()\n",
    "print('Report : ') \n",
    "print()\n",
    "print(classification_report(df_final['score'].values, final_score)) "
   ]
  },
  {
   "cell_type": "markdown",
   "metadata": {},
   "source": [
    "# Conlusion :"
   ]
  },
  {
   "cell_type": "markdown",
   "metadata": {},
   "source": [
    "### clearly the accuracy achieved in dictionary based approach is 64.24 %..\n",
    "### Let's see if we can increase it further by using machine learning approach..."
   ]
  },
  {
   "cell_type": "markdown",
   "metadata": {},
   "source": [
    "."
   ]
  },
  {
   "cell_type": "markdown",
   "metadata": {},
   "source": [
    "."
   ]
  },
  {
   "cell_type": "markdown",
   "metadata": {},
   "source": [
    "# 2) Machine learning approach"
   ]
  },
  {
   "cell_type": "code",
   "execution_count": 175,
   "metadata": {},
   "outputs": [],
   "source": [
    "#Importing necessary libraries for building model..\n",
    "\n",
    "from sklearn.feature_extraction.text import TfidfTransformer\n",
    "from sklearn.feature_extraction.text import TfidfVectorizer\n",
    "from sklearn.feature_extraction.text import CountVectorizer\n",
    "from sklearn.metrics import confusion_matrix\n",
    "from sklearn import metrics\n",
    "from sklearn.metrics import roc_curve, auc\n",
    "from nltk.stem.porter import PorterStemmer\n",
    "\n",
    "from sklearn.cross_validation import train_test_split\n",
    "from sklearn.neighbors import KNeighborsClassifier\n",
    "from sklearn.metrics import accuracy_score\n",
    "from sklearn.cross_validation import cross_val_score\n",
    "from collections import Counter\n",
    "from sklearn.metrics import accuracy_score\n",
    "from sklearn import cross_validation"
   ]
  },
  {
   "cell_type": "code",
   "execution_count": 176,
   "metadata": {},
   "outputs": [
    {
     "data": {
      "text/plain": [
       "(25000, 2)"
      ]
     },
     "execution_count": 176,
     "metadata": {},
     "output_type": "execute_result"
    }
   ],
   "source": [
    "df_final.shape"
   ]
  },
  {
   "cell_type": "code",
   "execution_count": 180,
   "metadata": {},
   "outputs": [],
   "source": [
    "# Text to vector conversion..for Training dataset\n",
    "# Creating bag of words on the Training set...\n",
    "#BoW\n",
    "count_vect = CountVectorizer() #in scikit-learn\n",
    "bow = count_vect.fit_transform(df_final[\"reviews\"].values)"
   ]
  },
  {
   "cell_type": "code",
   "execution_count": 181,
   "metadata": {},
   "outputs": [
    {
     "data": {
      "text/plain": [
       "(25000, 47706)"
      ]
     },
     "execution_count": 181,
     "metadata": {},
     "output_type": "execute_result"
    }
   ],
   "source": [
    "bow.shape"
   ]
  },
  {
   "cell_type": "code",
   "execution_count": 182,
   "metadata": {},
   "outputs": [
    {
     "name": "stdout",
     "output_type": "stream",
     "text": [
      "(25000, 47706)\n"
     ]
    }
   ],
   "source": [
    "# Data-preprocessing: Standardizing the data\n",
    "\n",
    "from sklearn.preprocessing import StandardScaler\n",
    "standardized_data = StandardScaler(with_mean=False).fit_transform(bow)\n",
    "print(standardized_data.shape)\n"
   ]
  },
  {
   "cell_type": "code",
   "execution_count": 183,
   "metadata": {},
   "outputs": [],
   "source": [
    "# split the data set into train and test\n",
    "X_train, X_test, Y_train, Y_test = cross_validation.train_test_split(standardized_data, df_final[\"score\"].values, test_size=0.3, random_state=0)"
   ]
  },
  {
   "cell_type": "code",
   "execution_count": 256,
   "metadata": {},
   "outputs": [],
   "source": [
    "from sklearn.neighbors import KNeighborsClassifier\n",
    "from sklearn.metrics import accuracy_score\n",
    "from sklearn.cross_validation import cross_val_score\n",
    "from collections import Counter\n",
    "from sklearn.metrics import accuracy_score\n",
    "from sklearn import cross_validation"
   ]
  },
  {
   "cell_type": "markdown",
   "metadata": {},
   "source": [
    "# K-nn(Bag of words)"
   ]
  },
  {
   "cell_type": "code",
   "execution_count": 190,
   "metadata": {},
   "outputs": [],
   "source": [
    "# creating odd list of K for KNN\n",
    "myList = list(range(0,30))\n",
    "neighbors = list(filter(lambda x: x % 2 != 0, myList))\n",
    "\n",
    "# empty list that will hold cv scores\n",
    "cv_scores = []\n",
    "\n",
    "# perform 10-fold cross validation\n",
    "for k in tqdm(neighbors):\n",
    "    knn = KNeighborsClassifier(n_neighbors=k)\n",
    "    scores = cross_val_score(knn,X_train, Y_train, cv=5, scoring='accuracy')\n",
    "    cv_scores.append(scores.mean())\n",
    "\n",
    "# changing to misclassification error\n",
    "MSE = [1 - x for x in cv_scores]\n",
    "\n",
    "# determining best k\n",
    "optimal_k_bow = neighbors[MSE.index(min(MSE))]\n",
    "print('\\nThe optimal number of neighbors is %d.' % optimal_k_bow)\n",
    "\n"
   ]
  },
  {
   "cell_type": "code",
   "execution_count": 189,
   "metadata": {},
   "outputs": [
    {
     "data": {
      "image/png": "[encoded data removed]",
      "text/plain": [
       "<Figure size 432x288 with 1 Axes>"
      ]
     },
     "metadata": {
      "needs_background": "light"
     },
     "output_type": "display_data"
    },
    {
     "name": "stdout",
     "output_type": "stream",
     "text": [
      "the misclassification error for each k value is :  [0.42  0.456 0.472 0.478 0.471 0.454 0.443 0.419 0.417 0.423 0.434 0.448\n",
      " 0.461 0.469 0.476]\n"
     ]
    }
   ],
   "source": [
    "# plot misclassification error vs k \n",
    "import matplotlib.pyplot as plt\n",
    "plt.plot(neighbors, MSE)\n",
    "\n",
    "for xy in zip(neighbors, np.round(MSE,3)):\n",
    "    plt.annotate('(%s, %s)' % xy, xy=xy, textcoords='data')\n",
    "\n",
    "plt.xlabel('Number of Neighbors K')\n",
    "plt.ylabel('Misclassification Error')\n",
    "plt.show()\n",
    "\n",
    "print(\"the misclassification error for each k value is : \", np.round(MSE,3))"
   ]
  },
  {
   "cell_type": "code",
   "execution_count": 191,
   "metadata": {},
   "outputs": [
    {
     "name": "stdout",
     "output_type": "stream",
     "text": [
      "\n",
      "The accuracy of the knn classifier for k = 17 is 57.960000%\n"
     ]
    }
   ],
   "source": [
    "# ============================== KNN with k = optimal_k ===============================================\n",
    "# instantiate learning model k = optimal_k\n",
    "knn_optimal_bow = KNeighborsClassifier(n_neighbors=optimal_k_bow)\n",
    "\n",
    "# fitting the model\n",
    "knn_optimal_bow.fit(X_train, Y_train)\n",
    "\n",
    "# predict the response\n",
    "knn_pred_bow = knn_optimal_bow.predict(X_test)\n",
    "\n",
    "# evaluate accuracy\n",
    "knn_acc_bow = accuracy_score(Y_test, knn_pred_bow) * 100\n",
    "print('\\nThe accuracy of the knn classifier for k = %d is %f%%' % (optimal_k_bow, knn_acc_bow))"
   ]
  },
  {
   "cell_type": "code",
   "execution_count": 213,
   "metadata": {},
   "outputs": [],
   "source": [
    "import pandas as pd\n",
    "import matplotlib.pyplot as plt\n",
    "import seaborn as sns\n",
    "\n",
    "def print_confusion_matrix(confusion_matrix, class_names, figsize = (7,5), fontsize=14):\n",
    "    \n",
    "    df_cm = pd.DataFrame(\n",
    "        confusion_matrix, index=class_names, columns=class_names, \n",
    "    )\n",
    "    fig = plt.figure(figsize=figsize)\n",
    "    try:\n",
    "        heatmap = sns.heatmap(df_cm, annot=True, fmt=\"d\")\n",
    "    except ValueError:\n",
    "        raise ValueError(\"Confusion matrix values must be integers.\")\n",
    "    heatmap.yaxis.set_ticklabels(heatmap.yaxis.get_ticklabels(), rotation=0, ha='right', fontsize=fontsize)\n",
    "    heatmap.xaxis.set_ticklabels(heatmap.xaxis.get_ticklabels(), rotation=45, ha='right', fontsize=fontsize)\n",
    "    plt.ylabel('True label')\n",
    "    plt.xlabel('Predicted label')\n",
    "    plt.title(\"CONFUSION MATRIX\")\n",
    "    \n",
    "    return fig"
   ]
  },
  {
   "cell_type": "code",
   "execution_count": 214,
   "metadata": {},
   "outputs": [],
   "source": [
    "plt.close()"
   ]
  },
  {
   "cell_type": "code",
   "execution_count": 215,
   "metadata": {
    "scrolled": true
   },
   "outputs": [
    {
     "data": {
      "image/png": "[encoded data removed]",
      "text/plain": [
       "<Figure size 504x360 with 2 Axes>"
      ]
     },
     "execution_count": 215,
     "metadata": {},
     "output_type": "execute_result"
    },
    {
     "data": {
      "image/png": "[encoded data removed]",
      "text/plain": [
       "<Figure size 504x360 with 2 Axes>"
      ]
     },
     "metadata": {
      "needs_background": "light"
     },
     "output_type": "display_data"
    }
   ],
   "source": [
    "#Confusion matrix.....\n",
    "#Classification Report......\n",
    "from sklearn.metrics import classification_report\n",
    "results = confusion_matrix(Y_test, knn_pred_bow)\n",
    "print_confusion_matrix(results,[\"Negative Reviews\",\"Positive Reviews\"])\n"
   ]
  },
  {
   "cell_type": "code",
   "execution_count": 216,
   "metadata": {},
   "outputs": [
    {
     "name": "stdout",
     "output_type": "stream",
     "text": [
      "ACCURACY SCORE : 0.5796\n",
      "\n",
      "REPORT : \n",
      "             precision    recall  f1-score   support\n",
      "\n",
      "         -1       0.63      0.38      0.48      3733\n",
      "          1       0.56      0.77      0.65      3767\n",
      "\n",
      "avg / total       0.59      0.58      0.56      7500\n",
      "\n"
     ]
    }
   ],
   "source": [
    "print('ACCURACY SCORE :',accuracy_score(Y_test, knn_pred_bow)) \n",
    "print()\n",
    "print('REPORT : ') \n",
    "print(classification_report(Y_test, knn_pred_bow)) "
   ]
  },
  {
   "cell_type": "markdown",
   "metadata": {},
   "source": [
    "# KNN(TF-IDF)"
   ]
  },
  {
   "cell_type": "code",
   "execution_count": 193,
   "metadata": {},
   "outputs": [],
   "source": [
    "tf_idf_vect = TfidfVectorizer()\n",
    "final_tf_idf = tf_idf_vect.fit_transform(df_final['reviews'].values)"
   ]
  },
  {
   "cell_type": "code",
   "execution_count": 194,
   "metadata": {},
   "outputs": [
    {
     "name": "stdout",
     "output_type": "stream",
     "text": [
      "(25000, 47706)\n"
     ]
    }
   ],
   "source": [
    "# Data-preprocessing: Standardizing the data\n",
    "\n",
    "from sklearn.preprocessing import StandardScaler\n",
    "standardized_data_tf = StandardScaler(with_mean=False).fit_transform(final_tf_idf)\n",
    "print(standardized_data_tf.shape)\n"
   ]
  },
  {
   "cell_type": "code",
   "execution_count": 196,
   "metadata": {},
   "outputs": [],
   "source": [
    "X_train_tf, X_test_tf, Y_train_tf, Y_test_tf = cross_validation.train_test_split(standardized_data_tf, df_final[\"score\"].values, test_size=0.3, random_state=0)"
   ]
  },
  {
   "cell_type": "code",
   "execution_count": 197,
   "metadata": {},
   "outputs": [
    {
     "name": "stderr",
     "output_type": "stream",
     "text": [
      "100%|██████████| 10/10 [03:55<00:00, 25.08s/it]"
     ]
    },
    {
     "name": "stdout",
     "output_type": "stream",
     "text": [
      "\n",
      "The optimal number of neighbors is 9.\n"
     ]
    },
    {
     "name": "stderr",
     "output_type": "stream",
     "text": [
      "\n"
     ]
    },
    {
     "data": {
      "image/png": "[encoded data removed]",
      "text/plain": [
       "<Figure size 432x288 with 1 Axes>"
      ]
     },
     "metadata": {
      "needs_background": "light"
     },
     "output_type": "display_data"
    },
    {
     "name": "stdout",
     "output_type": "stream",
     "text": [
      "the misclassification error for each k value is :  [0.443 0.445 0.403 0.379 0.374 0.375 0.379 0.394 0.396 0.391]\n"
     ]
    }
   ],
   "source": [
    "# creating odd list of K for KNN\n",
    "myList = list(range(0,20))\n",
    "neighbors = list(filter(lambda x: x % 2 != 0, myList))\n",
    "\n",
    "# empty list that will hold cv scores\n",
    "cv_scores = []\n",
    "\n",
    "# perform 10-fold cross validation\n",
    "for k in tqdm(neighbors):\n",
    "    knn = KNeighborsClassifier(n_neighbors=k)\n",
    "    scores = cross_val_score(knn,X_train_tf, Y_train_tf, cv=10, scoring='accuracy')\n",
    "    cv_scores.append(scores.mean())\n",
    "\n",
    "# changing to misclassification error\n",
    "MSE = [1 - x for x in cv_scores]\n",
    "\n",
    "# determining best k\n",
    "optimal_k_tf = neighbors[MSE.index(min(MSE))]\n",
    "print('\\nThe optimal number of neighbors is %d.' % optimal_k_tf)\n",
    "\n",
    "# plot misclassification error vs k \n",
    "plt.plot(neighbors, MSE)\n",
    "\n",
    "for xy in zip(neighbors, np.round(MSE,3)):\n",
    "    plt.annotate('(%s, %s)' % xy, xy=xy, textcoords='data')\n",
    "\n",
    "plt.xlabel('Number of Neighbors K')\n",
    "plt.ylabel('Misclassification Error')\n",
    "plt.show()\n",
    "\n",
    "print(\"the misclassification error for each k value is : \", np.round(MSE,3))"
   ]
  },
  {
   "cell_type": "code",
   "execution_count": 198,
   "metadata": {},
   "outputs": [
    {
     "name": "stdout",
     "output_type": "stream",
     "text": [
      "\n",
      "The accuracy of the knn classifier for k = 9 is 64.066667%\n"
     ]
    }
   ],
   "source": [
    "# ============================== KNN with k = optimal_k ===============================================\n",
    "# instantiate learning model k = optimal_k\n",
    "knn_optimal_tf = KNeighborsClassifier(n_neighbors=optimal_k_tf)\n",
    "\n",
    "# fitting the model\n",
    "knn_optimal_tf.fit(X_train_tf, Y_train_tf)\n",
    "\n",
    "# predict the response\n",
    "knn_pred_tf = knn_optimal_tf.predict(X_test_tf)\n",
    "\n",
    "# evaluate accuracy\n",
    "knn_acc_tf = accuracy_score(Y_test_tf, knn_pred_tf) * 100\n",
    "print('\\nThe accuracy of the knn classifier for k = %d is %f%%' % (optimal_k_tf, knn_acc_tf))"
   ]
  },
  {
   "cell_type": "code",
   "execution_count": 217,
   "metadata": {
    "scrolled": true
   },
   "outputs": [
    {
     "data": {
      "image/png": "[encoded data removed]",
      "text/plain": [
       "<Figure size 504x360 with 2 Axes>"
      ]
     },
     "execution_count": 217,
     "metadata": {},
     "output_type": "execute_result"
    },
    {
     "data": {
      "image/png": "[encoded data removed]",
      "text/plain": [
       "<Figure size 504x360 with 2 Axes>"
      ]
     },
     "metadata": {
      "needs_background": "light"
     },
     "output_type": "display_data"
    }
   ],
   "source": [
    "#Confusion matrix.....\n",
    "#Classification Report......\n",
    "from sklearn.metrics import classification_report\n",
    "results = confusion_matrix(Y_test_tf, knn_pred_tf)\n",
    "print_confusion_matrix(results,[\"Negative Reviews\",\"Positive Reviews\"])\n"
   ]
  },
  {
   "cell_type": "code",
   "execution_count": 199,
   "metadata": {},
   "outputs": [
    {
     "name": "stdout",
     "output_type": "stream",
     "text": [
      "CONFUSION MATRIX :\n",
      "\n",
      "[[1863 1870]\n",
      " [ 825 2942]]\n",
      "\n",
      "ACCURACY SCORE : 0.6406666666666667\n",
      "\n",
      "REPORT : \n",
      "             precision    recall  f1-score   support\n",
      "\n",
      "         -1       0.69      0.50      0.58      3733\n",
      "          1       0.61      0.78      0.69      3767\n",
      "\n",
      "avg / total       0.65      0.64      0.63      7500\n",
      "\n"
     ]
    }
   ],
   "source": [
    "#Confusion matrix.....\n",
    "#Classification Report......\n",
    "results = confusion_matrix(Y_test_tf, knn_pred_tf)\n",
    "print('CONFUSION MATRIX :')\n",
    "print()\n",
    "print(results)\n",
    "print()\n",
    "print('ACCURACY SCORE :',accuracy_score(Y_test_tf, knn_pred_tf)) \n",
    "print()\n",
    "print('REPORT : ') \n",
    "print(classification_report(Y_test_tf, knn_pred_tf)) "
   ]
  },
  {
   "cell_type": "markdown",
   "metadata": {},
   "source": [
    "# 2) Naive Bayes(BOW)"
   ]
  },
  {
   "cell_type": "code",
   "execution_count": 200,
   "metadata": {},
   "outputs": [
    {
     "name": "stderr",
     "output_type": "stream",
     "text": [
      "100%|██████████| 7/7 [00:02<00:00,  2.36it/s]"
     ]
    },
    {
     "name": "stdout",
     "output_type": "stream",
     "text": [
      "\n",
      "The optimal value of alpha is 1\n"
     ]
    },
    {
     "name": "stderr",
     "output_type": "stream",
     "text": [
      "\n"
     ]
    },
    {
     "data": {
      "image/png": "[encoded data removed]",
      "text/plain": [
       "<Figure size 432x288 with 1 Axes>"
      ]
     },
     "metadata": {
      "needs_background": "light"
     },
     "output_type": "display_data"
    },
    {
     "name": "stdout",
     "output_type": "stream",
     "text": [
      "the misclassification error for each alpha value is :  [0.267 0.265 0.263 0.261 0.259 0.254 0.247]\n"
     ]
    }
   ],
   "source": [
    "from sklearn.naive_bayes import MultinomialNB\n",
    "#creating a list of alpha values\n",
    "mylist=[10**-15,10**-7,10**-4,10**-3,10**-2,10**-1,10**0]\n",
    "\n",
    "# empty list that will hold cv scores\n",
    "cv_scores = []\n",
    "\n",
    "# perform 10-fold cross validation\n",
    "for a in tqdm(mylist):\n",
    "    mnb = MultinomialNB(alpha=a)\n",
    "    scores = cross_val_score(mnb,X_train, Y_train, cv=10, scoring='accuracy')\n",
    "    cv_scores.append(scores.mean())\n",
    "\n",
    "# changing to misclassification error\n",
    "MSE = [1 - x for x in cv_scores]\n",
    "\n",
    "# determining best alpha\n",
    "nb_optimal_a_bow = mylist[MSE.index(min(MSE))]\n",
    "print('\\nThe optimal value of alpha is {}'.format(nb_optimal_a_bow))\n",
    "\n",
    "# plot misclassification error vs alpha \n",
    "plt.plot(mylist, MSE)\n",
    "\n",
    "for xy in zip(mylist, np.round(MSE,3)):\n",
    "    plt.annotate('(%s, %s)' % xy, xy=xy, textcoords='data')\n",
    "\n",
    "plt.xlabel('alpha ')\n",
    "plt.ylabel('Misclassification Error')\n",
    "plt.show()\n",
    "\n",
    "print(\"the misclassification error for each alpha value is : \", np.round(MSE,3))"
   ]
  },
  {
   "cell_type": "code",
   "execution_count": 202,
   "metadata": {},
   "outputs": [
    {
     "name": "stdout",
     "output_type": "stream",
     "text": [
      "\n",
      "The accuracy on test set of the MultinomialNB classifier for alpha = (MultinomialNB(alpha=1, class_prior=None, fit_prior=True), 76.13333333333333)\n"
     ]
    }
   ],
   "source": [
    "# instantiate learning model alpha = optimal_a_bow\n",
    "mnb_optimal_bow =MultinomialNB(alpha=nb_optimal_a_bow)\n",
    "\n",
    "# fitting the model\n",
    "mnb_optimal_bow.fit(X_train, Y_train)\n",
    "\n",
    "# predict the response\n",
    "mnb_pred_bow_test = mnb_optimal_bow.predict(X_test)\n",
    "\n",
    "# evaluate accuracy\n",
    "mnb_acc_bow_test = accuracy_score(Y_test, mnb_pred_bow_test) * 100\n",
    "print('\\nThe accuracy on test set of the MultinomialNB classifier for alpha = {}'.format((mnb_optimal_bow, mnb_acc_bow_test)))"
   ]
  },
  {
   "cell_type": "code",
   "execution_count": 218,
   "metadata": {
    "scrolled": true
   },
   "outputs": [
    {
     "data": {
      "image/png": "[encoded data removed]",
      "text/plain": [
       "<Figure size 504x360 with 2 Axes>"
      ]
     },
     "execution_count": 218,
     "metadata": {},
     "output_type": "execute_result"
    },
    {
     "data": {
      "image/png": "[encoded data removed]",
      "text/plain": [
       "<Figure size 504x360 with 2 Axes>"
      ]
     },
     "metadata": {
      "needs_background": "light"
     },
     "output_type": "display_data"
    }
   ],
   "source": [
    "results = confusion_matrix(Y_test, mnb_pred_bow_test)\n",
    "print_confusion_matrix(results,[\"Negative Reviews\",\"Positive Reviews\"])"
   ]
  },
  {
   "cell_type": "code",
   "execution_count": 219,
   "metadata": {},
   "outputs": [
    {
     "name": "stdout",
     "output_type": "stream",
     "text": [
      "\n",
      "ACCURACY SCORE : 0.7613333333333333\n",
      "\n",
      "REPORT : \n",
      "             precision    recall  f1-score   support\n",
      "\n",
      "         -1       0.75      0.79      0.77      3733\n",
      "          1       0.78      0.74      0.76      3767\n",
      "\n",
      "avg / total       0.76      0.76      0.76      7500\n",
      "\n"
     ]
    }
   ],
   "source": [
    "#Confusion matrix.....\n",
    "#Classification Report......\n",
    "\n",
    "print()\n",
    "print('ACCURACY SCORE :',accuracy_score(Y_test, mnb_pred_bow_test)) \n",
    "print()\n",
    "print('REPORT : ') \n",
    "print(classification_report(Y_test, mnb_pred_bow_test)) "
   ]
  },
  {
   "cell_type": "markdown",
   "metadata": {},
   "source": [
    "## 2) BINARY-BAG OF WORDS"
   ]
  },
  {
   "cell_type": "code",
   "execution_count": 220,
   "metadata": {},
   "outputs": [],
   "source": [
    "# Text to vector conversion..for Training dataset\n",
    "# Creating bag of words on the Training set...\n",
    "#Binary BoW\n",
    "count_vect_b = CountVectorizer(binary=True) #in scikit-learn\n",
    "binary_bow = count_vect_b.fit_transform(df_final[\"reviews\"].values)"
   ]
  },
  {
   "cell_type": "code",
   "execution_count": 221,
   "metadata": {},
   "outputs": [
    {
     "data": {
      "text/plain": [
       "(25000, 47706)"
      ]
     },
     "execution_count": 221,
     "metadata": {},
     "output_type": "execute_result"
    }
   ],
   "source": [
    "binary_bow.shape"
   ]
  },
  {
   "cell_type": "code",
   "execution_count": 223,
   "metadata": {},
   "outputs": [
    {
     "name": "stdout",
     "output_type": "stream",
     "text": [
      "(25000, 47706)\n"
     ]
    }
   ],
   "source": [
    "# Data-preprocessing: Standardizing the data\n",
    "import warnings\n",
    "warnings.filterwarnings('ignore')\n",
    "from sklearn.preprocessing import StandardScaler\n",
    "standardized_data_binary_bow = StandardScaler(with_mean=False).fit_transform(binary_bow)\n",
    "print(standardized_data_binary_bow.shape)"
   ]
  },
  {
   "cell_type": "code",
   "execution_count": 224,
   "metadata": {},
   "outputs": [],
   "source": [
    "X_train_bbow, X_test_bbow, Y_train_bbow, Y_test_bbow = cross_validation.train_test_split(standardized_data_binary_bow, df_final[\"score\"].values, test_size=0.3, random_state=0)"
   ]
  },
  {
   "cell_type": "code",
   "execution_count": 225,
   "metadata": {},
   "outputs": [
    {
     "name": "stderr",
     "output_type": "stream",
     "text": [
      "100%|██████████| 5/5 [00:02<00:00,  1.72it/s]"
     ]
    },
    {
     "name": "stdout",
     "output_type": "stream",
     "text": [
      "\n",
      "The optimal value of alpha is 0.1\n"
     ]
    },
    {
     "name": "stderr",
     "output_type": "stream",
     "text": [
      "\n"
     ]
    },
    {
     "data": {
      "image/png": "[encoded data removed]",
      "text/plain": [
       "<Figure size 432x288 with 1 Axes>"
      ]
     },
     "metadata": {
      "needs_background": "light"
     },
     "output_type": "display_data"
    },
    {
     "name": "stdout",
     "output_type": "stream",
     "text": [
      "the misclassification error for each alpha value is :  [0.224 0.18  0.171 0.164 0.165]\n"
     ]
    }
   ],
   "source": [
    "plt.close()\n",
    "from sklearn.naive_bayes import BernoulliNB\n",
    "#creating a list of alpha values\n",
    "mylist=[10**-10,10**-3,10**-2,10**-1,10**0]\n",
    "\n",
    "# empty list that will hold cv scores\n",
    "cv_scores = []\n",
    "\n",
    "# perform 10-fold cross validation\n",
    "for a in tqdm(mylist):\n",
    "    bnb = BernoulliNB(alpha=a)\n",
    "    scores = cross_val_score(bnb,X_train_bbow, Y_train_bbow, cv=10, scoring='accuracy')\n",
    "    cv_scores.append(scores.mean())\n",
    "\n",
    "# changing to misclassification error\n",
    "MSE = [1 - x for x in cv_scores]\n",
    "\n",
    "# determining best alpha\n",
    "nb_optimal_a_binary_bow = mylist[MSE.index(min(MSE))]\n",
    "print('\\nThe optimal value of alpha is {}'.format(nb_optimal_a_binary_bow))\n",
    "\n",
    "# plot misclassification error vs alpha \n",
    "plt.plot(mylist, MSE)\n",
    "\n",
    "for xy in zip(mylist, np.round(MSE,3)):\n",
    "    plt.annotate('(%s, %s)' % xy, xy=xy, textcoords='data')\n",
    "\n",
    "plt.xlabel('alpha ')\n",
    "plt.ylabel('Misclassification Error')\n",
    "plt.show()\n",
    "\n",
    "print(\"the misclassification error for each alpha value is : \", np.round(MSE,3))"
   ]
  },
  {
   "cell_type": "code",
   "execution_count": 226,
   "metadata": {},
   "outputs": [
    {
     "name": "stdout",
     "output_type": "stream",
     "text": [
      "\n",
      "The accuracy on test set of the BernoulliNB classifier for alpha = (0.1, 83.81333333333333)\n"
     ]
    }
   ],
   "source": [
    "# instantiate learning model alpha = optimal_a_bow\n",
    "bnb_optimal_bow =BernoulliNB(alpha=nb_optimal_a_binary_bow)\n",
    "\n",
    "# fitting the model\n",
    "bnb_optimal_bow.fit(X_train_bbow, Y_train_bbow)\n",
    "\n",
    "# predict the response\n",
    "nb_pred_binary_bow_test = bnb_optimal_bow.predict(X_test_bbow)\n",
    "\n",
    "# evaluate accuracy\n",
    "nb_acc_binary_bow_test = accuracy_score(Y_test_bbow,nb_pred_binary_bow_test) * 100\n",
    "print('\\nThe accuracy on test set of the BernoulliNB classifier for alpha = {}'.format((nb_optimal_a_binary_bow, nb_acc_binary_bow_test)))"
   ]
  },
  {
   "cell_type": "code",
   "execution_count": 227,
   "metadata": {
    "scrolled": true
   },
   "outputs": [
    {
     "data": {
      "image/png": "[encoded data removed]",
      "text/plain": [
       "<Figure size 504x360 with 2 Axes>"
      ]
     },
     "execution_count": 227,
     "metadata": {},
     "output_type": "execute_result"
    },
    {
     "data": {
      "image/png": "[encoded data removed]",
      "text/plain": [
       "<Figure size 504x360 with 2 Axes>"
      ]
     },
     "metadata": {
      "needs_background": "light"
     },
     "output_type": "display_data"
    }
   ],
   "source": [
    "results = confusion_matrix(Y_test_bbow, nb_pred_binary_bow_test)\n",
    "print_confusion_matrix(results,[\"Negative Reviews\",\"Positive Reviews\"])"
   ]
  },
  {
   "cell_type": "code",
   "execution_count": 228,
   "metadata": {},
   "outputs": [
    {
     "name": "stdout",
     "output_type": "stream",
     "text": [
      "\n",
      "ACCURACY SCORE : 0.8381333333333333\n",
      "\n",
      "REPORT : \n",
      "             precision    recall  f1-score   support\n",
      "\n",
      "         -1       0.81      0.87      0.84      3733\n",
      "          1       0.87      0.80      0.83      3767\n",
      "\n",
      "avg / total       0.84      0.84      0.84      7500\n",
      "\n"
     ]
    }
   ],
   "source": [
    "#Confusion matrix.....\n",
    "#Classification Report......\n",
    "\n",
    "print()\n",
    "print('ACCURACY SCORE :',accuracy_score(Y_test_bbow, nb_pred_binary_bow_test)) \n",
    "print()\n",
    "print('REPORT : ') \n",
    "print(classification_report(Y_test_bbow, nb_pred_binary_bow_test)) "
   ]
  },
  {
   "cell_type": "markdown",
   "metadata": {},
   "source": [
    "# 3) TF-IDF"
   ]
  },
  {
   "cell_type": "code",
   "execution_count": 232,
   "metadata": {},
   "outputs": [
    {
     "name": "stderr",
     "output_type": "stream",
     "text": [
      "100%|██████████| 4/4 [00:01<00:00,  2.43it/s]"
     ]
    },
    {
     "name": "stdout",
     "output_type": "stream",
     "text": [
      "\n",
      "The optimal value of alpha is 1\n"
     ]
    },
    {
     "name": "stderr",
     "output_type": "stream",
     "text": [
      "\n"
     ]
    },
    {
     "data": {
      "image/png": "[encoded data removed]",
      "text/plain": [
       "<Figure size 432x288 with 1 Axes>"
      ]
     },
     "metadata": {
      "needs_background": "light"
     },
     "output_type": "display_data"
    },
    {
     "name": "stdout",
     "output_type": "stream",
     "text": [
      "the misclassification error for each alpha value is :  [0.261 0.257 0.253 0.244]\n"
     ]
    }
   ],
   "source": [
    "from sklearn.naive_bayes import MultinomialNB\n",
    "#creating a list of alpha values\n",
    "mylist=[10**-3,10**-2,10**-1,10**0]\n",
    "\n",
    "# empty list that will hold cv scores\n",
    "cv_scores = []\n",
    "\n",
    "# perform 10-fold cross validation\n",
    "for a in tqdm(mylist):\n",
    "    mnb = MultinomialNB(alpha=a)\n",
    "    scores = cross_val_score(mnb,X_train_tf, Y_train_tf, cv=10, scoring='accuracy')\n",
    "    cv_scores.append(scores.mean())\n",
    "\n",
    "# changing to misclassification error\n",
    "MSE = [1 - x for x in cv_scores]\n",
    "\n",
    "# determining best alpha\n",
    "mnb_optimal_a_tf = mylist[MSE.index(min(MSE))]\n",
    "print('\\nThe optimal value of alpha is {}'.format(mnb_optimal_a_tf))\n",
    "\n",
    "# plot misclassification error vs alpha \n",
    "plt.plot(mylist, MSE)\n",
    "\n",
    "for xy in zip(mylist, np.round(MSE,3)):\n",
    "    plt.annotate('(%s, %s)' % xy, xy=xy, textcoords='data')\n",
    "\n",
    "plt.xlabel('alpha ')\n",
    "plt.ylabel('Misclassification Error')\n",
    "plt.show()\n",
    "\n",
    "print(\"the misclassification error for each alpha value is : \", np.round(MSE,3))"
   ]
  },
  {
   "cell_type": "code",
   "execution_count": 233,
   "metadata": {},
   "outputs": [
    {
     "name": "stdout",
     "output_type": "stream",
     "text": [
      "\n",
      "The accuracy on test set of the MultinomialNB classifier for alpha = (1, 76.06666666666668)\n"
     ]
    }
   ],
   "source": [
    "# instantiate learning model alpha = optimal_a_bow\n",
    "mnb_optimal_tf =MultinomialNB(alpha=mnb_optimal_a_tf)\n",
    "\n",
    "# fitting the model\n",
    "mnb_optimal_tf.fit(X_train_tf, Y_train_tf)\n",
    "\n",
    "# predict the response\n",
    "mnb_pred_tf_test = mnb_optimal_tf.predict(X_test_tf)\n",
    "\n",
    "# evaluate accuracy\n",
    "mnb_acc_tf_test = accuracy_score(Y_test_tf, mnb_pred_tf_test) * 100\n",
    "print('\\nThe accuracy on test set of the MultinomialNB classifier for alpha = {}'.format((mnb_optimal_a_tf, mnb_acc_tf_test)))"
   ]
  },
  {
   "cell_type": "code",
   "execution_count": 234,
   "metadata": {},
   "outputs": [
    {
     "name": "stdout",
     "output_type": "stream",
     "text": [
      "CONFUSION MATRIX :\n",
      "\n",
      "[[2877  856]\n",
      " [ 939 2828]]\n",
      "\n",
      "ACCURACY SCORE : 0.7606666666666667\n",
      "\n",
      "REPORT : \n",
      "             precision    recall  f1-score   support\n",
      "\n",
      "         -1       0.75      0.77      0.76      3733\n",
      "          1       0.77      0.75      0.76      3767\n",
      "\n",
      "avg / total       0.76      0.76      0.76      7500\n",
      "\n"
     ]
    }
   ],
   "source": [
    "#Confusion matrix.....\n",
    "#Classification Report......\n",
    "from sklearn.metrics import classification_report\n",
    "results = confusion_matrix(Y_test_tf, mnb_pred_tf_test)\n",
    "print('CONFUSION MATRIX :')\n",
    "print()\n",
    "print(results)\n",
    "print()\n",
    "print('ACCURACY SCORE :',accuracy_score(Y_test_tf, mnb_pred_tf_test)) \n",
    "print()\n",
    "print('REPORT : ') \n",
    "print(classification_report(Y_test_tf, mnb_pred_tf_test)) "
   ]
  },
  {
   "cell_type": "markdown",
   "metadata": {},
   "source": [
    "# Build Logistic Regression for BoW\n"
   ]
  },
  {
   "cell_type": "markdown",
   "metadata": {},
   "source": [
    "### Logistic Regression with L1 regularization"
   ]
  },
  {
   "cell_type": "code",
   "execution_count": 238,
   "metadata": {},
   "outputs": [
    {
     "name": "stdout",
     "output_type": "stream",
     "text": [
      "Accuracy ofLogistic Regression with l1 regularization on BoW is 87.120000: at C = 0.100000\n"
     ]
    }
   ],
   "source": [
    "#Logistic regression with l1 regularization\n",
    "#perform Grid Search on Train data to find correct C\n",
    "#we tune hyperparameter with 10-fold CV\n",
    "from sklearn.linear_model import LogisticRegression\n",
    "from sklearn.model_selection import GridSearchCV\n",
    "\n",
    "x = [10**i for i in range(-4,3)]\n",
    "params = {'C':x}\n",
    "clf = LogisticRegression(penalty = 'l1',class_weight='balanced')\n",
    "grid = GridSearchCV(clf,params,cv=10)\n",
    "grid.fit(X_train,Y_train)\n",
    "\n",
    "#build Logistic Regression with L1 regularization and with best c\n",
    "best_C_bow_l1 = grid.best_params_['C']\n",
    "clf = LogisticRegression(C=best_C_bow_l1,penalty='l1',class_weight='balanced')\n",
    "clf.fit(X_train,Y_train)\n",
    "bow_l1 = clf.score(X_test,Y_test)\n",
    "print('Accuracy ofLogistic Regression with l1 regularization on BoW is %f: at C = %f'%(bow_l1*100,best_C_bow_l1))"
   ]
  },
  {
   "cell_type": "code",
   "execution_count": 246,
   "metadata": {},
   "outputs": [],
   "source": [
    "bow_l1_pred=clf.predict(X_test)"
   ]
  },
  {
   "cell_type": "code",
   "execution_count": 247,
   "metadata": {},
   "outputs": [
    {
     "name": "stdout",
     "output_type": "stream",
     "text": [
      "CONFUSION MATRIX :\n",
      "\n",
      "[[3162  571]\n",
      " [ 395 3372]]\n",
      "\n",
      "ACCURACY SCORE : 0.8712\n",
      "\n",
      "REPORT : \n",
      "             precision    recall  f1-score   support\n",
      "\n",
      "         -1       0.89      0.85      0.87      3733\n",
      "          1       0.86      0.90      0.87      3767\n",
      "\n",
      "avg / total       0.87      0.87      0.87      7500\n",
      "\n"
     ]
    }
   ],
   "source": [
    "#Confusion matrix.....\n",
    "#Classification Report......\n",
    "from sklearn.metrics import classification_report\n",
    "results = confusion_matrix(Y_test, bow_l1_pred)\n",
    "print('CONFUSION MATRIX :')\n",
    "print()\n",
    "print(results)\n",
    "print()\n",
    "print('ACCURACY SCORE :',accuracy_score(Y_test, bow_l1_pred)) \n",
    "print()\n",
    "print('REPORT : ') \n",
    "print(classification_report(Y_test, bow_l1_pred)) "
   ]
  },
  {
   "cell_type": "markdown",
   "metadata": {},
   "source": [
    "## Logistic Regression with L2 regularization"
   ]
  },
  {
   "cell_type": "code",
   "execution_count": 248,
   "metadata": {},
   "outputs": [
    {
     "name": "stdout",
     "output_type": "stream",
     "text": [
      "Accuracy ofLogistic Regression with l1 regularization on BoW is 88.266667: at C = 0.000100\n"
     ]
    }
   ],
   "source": [
    "x = [10**i for i in range(-4,3)]\n",
    "params = {'C':x}\n",
    "clf = LogisticRegression(penalty = 'l2',class_weight='balanced')\n",
    "grid = GridSearchCV(clf,params,cv=10)\n",
    "grid.fit(X_train,Y_train)\n",
    "\n",
    "#build Logistic Regression with L1 regularization and with best c\n",
    "best_C_bow_l1 = grid.best_params_['C']\n",
    "clf = LogisticRegression(C=best_C_bow_l1,penalty='l2',class_weight='balanced')\n",
    "clf.fit(X_train,Y_train)\n",
    "bow_l1 = clf.score(X_test,Y_test)\n",
    "print('Accuracy ofLogistic Regression with l1 regularization on BoW is %f: at C = %f'%(bow_l1*100,best_C_bow_l1))"
   ]
  },
  {
   "cell_type": "code",
   "execution_count": 250,
   "metadata": {},
   "outputs": [],
   "source": [
    "bow_l2_pred=clf.predict(X_test)"
   ]
  },
  {
   "cell_type": "code",
   "execution_count": 251,
   "metadata": {},
   "outputs": [
    {
     "name": "stdout",
     "output_type": "stream",
     "text": [
      "CONFUSION MATRIX :\n",
      "\n",
      "[[3247  486]\n",
      " [ 394 3373]]\n",
      "\n",
      "ACCURACY SCORE : 0.8826666666666667\n",
      "\n",
      "REPORT : \n",
      "             precision    recall  f1-score   support\n",
      "\n",
      "         -1       0.89      0.87      0.88      3733\n",
      "          1       0.87      0.90      0.88      3767\n",
      "\n",
      "avg / total       0.88      0.88      0.88      7500\n",
      "\n"
     ]
    }
   ],
   "source": [
    "#Confusion matrix.....\n",
    "#Classification Report......\n",
    "from sklearn.metrics import classification_report\n",
    "results = confusion_matrix(Y_test, bow_l2_pred)\n",
    "print('CONFUSION MATRIX :')\n",
    "print()\n",
    "print(results)\n",
    "print()\n",
    "print('ACCURACY SCORE :',accuracy_score(Y_test, bow_l2_pred)) \n",
    "print()\n",
    "print('REPORT : ') \n",
    "print(classification_report(Y_test, bow_l2_pred)) "
   ]
  },
  {
   "cell_type": "markdown",
   "metadata": {},
   "source": [
    "# Build Logistic Regression for tfidf"
   ]
  },
  {
   "cell_type": "markdown",
   "metadata": {},
   "source": [
    "### Logistic Regression with L1 regularization"
   ]
  },
  {
   "cell_type": "code",
   "execution_count": 252,
   "metadata": {},
   "outputs": [
    {
     "name": "stdout",
     "output_type": "stream",
     "text": [
      "Accuracy ofLogistic Regression with l1 regularization on BoW is 86.546667: at C = 0.100000\n"
     ]
    }
   ],
   "source": [
    "x = [10**i for i in range(-4,3)]\n",
    "params = {'C':x}\n",
    "clf = LogisticRegression(penalty = 'l1',class_weight='balanced')\n",
    "grid = GridSearchCV(clf,params,cv=10)\n",
    "grid.fit(X_train_tf,Y_train_tf)\n",
    "\n",
    "#build Logistic Regression with L1 regularization and with best c\n",
    "best_C_tf_l1 = grid.best_params_['C']\n",
    "clf = LogisticRegression(C=best_C_tf_l1,penalty='l1',class_weight='balanced')\n",
    "clf.fit(X_train_tf,Y_train_tf)\n",
    "tf_l1 = clf.score(X_test_tf,Y_test_tf)\n",
    "print('Accuracy ofLogistic Regression with l1 regularization on BoW is %f: at C = %f'%(tf_l1*100,best_C_tf_l1))"
   ]
  },
  {
   "cell_type": "code",
   "execution_count": 253,
   "metadata": {},
   "outputs": [
    {
     "name": "stdout",
     "output_type": "stream",
     "text": [
      "CONFUSION MATRIX :\n",
      "\n",
      "[[3123  610]\n",
      " [ 399 3368]]\n",
      "\n",
      "ACCURACY SCORE : 0.8654666666666667\n",
      "\n",
      "REPORT : \n",
      "             precision    recall  f1-score   support\n",
      "\n",
      "         -1       0.89      0.84      0.86      3733\n",
      "          1       0.85      0.89      0.87      3767\n",
      "\n",
      "avg / total       0.87      0.87      0.87      7500\n",
      "\n"
     ]
    }
   ],
   "source": [
    "tf_l1_pred=clf.predict(X_test_tf)\n",
    "#Confusion matrix.....\n",
    "#Classification Report......\n",
    "from sklearn.metrics import classification_report\n",
    "results = confusion_matrix(Y_test_tf, tf_l1_pred)\n",
    "print('CONFUSION MATRIX :')\n",
    "print()\n",
    "print(results)\n",
    "print()\n",
    "print('ACCURACY SCORE :',accuracy_score(Y_test_tf, tf_l1_pred)) \n",
    "print()\n",
    "print('REPORT : ') \n",
    "print(classification_report(Y_test_tf, tf_l1_pred)) "
   ]
  },
  {
   "cell_type": "markdown",
   "metadata": {},
   "source": [
    "### Logistic Regression with L2 regularization"
   ]
  },
  {
   "cell_type": "code",
   "execution_count": 254,
   "metadata": {},
   "outputs": [
    {
     "name": "stdout",
     "output_type": "stream",
     "text": [
      "Accuracy ofLogistic Regression with l1 regularization on BoW is 87.906667: at C = 0.100000\n"
     ]
    }
   ],
   "source": [
    "x = [10**i for i in range(-4,3)]\n",
    "params = {'C':x}\n",
    "clf = LogisticRegression(penalty = 'l2',class_weight='balanced')\n",
    "grid = GridSearchCV(clf,params,cv=10)\n",
    "grid.fit(X_train_tf,Y_train_tf)\n",
    "\n",
    "#build Logistic Regression with L1 regularization and with best c\n",
    "best_C_tf_l2 = grid.best_params_['C']\n",
    "clf = LogisticRegression(C=best_C_tf_l2,penalty='l2',class_weight='balanced')\n",
    "clf.fit(X_train_tf,Y_train_tf)\n",
    "tf_l2 = clf.score(X_test_tf,Y_test_tf)\n",
    "print('Accuracy ofLogistic Regression with l1 regularization on BoW is %f: at C = %f'%(tf_l2*100,best_C_tf_l1))"
   ]
  },
  {
   "cell_type": "code",
   "execution_count": 255,
   "metadata": {},
   "outputs": [
    {
     "name": "stdout",
     "output_type": "stream",
     "text": [
      "CONFUSION MATRIX :\n",
      "\n",
      "[[3214  519]\n",
      " [ 388 3379]]\n",
      "\n",
      "ACCURACY SCORE : 0.8790666666666667\n",
      "\n",
      "REPORT : \n",
      "             precision    recall  f1-score   support\n",
      "\n",
      "         -1       0.89      0.86      0.88      3733\n",
      "          1       0.87      0.90      0.88      3767\n",
      "\n",
      "avg / total       0.88      0.88      0.88      7500\n",
      "\n"
     ]
    }
   ],
   "source": [
    "tf_l2_pred=clf.predict(X_test_tf)\n",
    "#Confusion matrix.....\n",
    "#Classification Report......\n",
    "from sklearn.metrics import classification_report\n",
    "results = confusion_matrix(Y_test_tf, tf_l2_pred)\n",
    "print('CONFUSION MATRIX :')\n",
    "print()\n",
    "print(results)\n",
    "print()\n",
    "print('ACCURACY SCORE :',accuracy_score(Y_test_tf, tf_l2_pred)) \n",
    "print()\n",
    "print('REPORT : ') \n",
    "print(classification_report(Y_test_tf, tf_l2_pred)) "
   ]
  },
  {
   "cell_type": "code",
   "execution_count": null,
   "metadata": {},
   "outputs": [],
   "source": []
  }
 ],
 "metadata": {
  "kernelspec": {
   "display_name": "Python 3",
   "language": "python",
   "name": "python3"
  },
  "language_info": {
   "codemirror_mode": {
    "name": "ipython",
    "version": 3
   },
   "file_extension": ".py",
   "mimetype": "text/x-python",
   "name": "python",
   "nbconvert_exporter": "python",
   "pygments_lexer": "ipython3",
   "version": "3.7.0"
  }
 },
 "nbformat": 4,
 "nbformat_minor": 2
}
